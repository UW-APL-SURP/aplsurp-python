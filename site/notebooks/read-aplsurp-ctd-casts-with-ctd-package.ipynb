{
 "cells": [
  {
   "cell_type": "markdown",
   "metadata": {},
   "source": [
    "# Examine cast data from APL-SURP cruise using a specialized package\n",
    "\n",
    "*Created for the University of Washington Applied Physics Laboratory's Summer Undergraduate Research Program (SURP) 2025.*\n",
    "\n",
    "This notebook demonstrates the use of the [`ctd` open-source package](https://pyoceans.github.io/python-ctd/) to read SeaBird CTD `.cnv` files and the [`folium` open-source package](https://python-visualization.github.io/folium/) to create interactive maps of cast locations using information read from the cast files.\n",
    "\n",
    "This notebook builds off the [Quick introduction notebook](https://pyoceans.github.io/python-ctd/quick_intro-output.html) found on the `ctd` website.\n",
    "\n",
    "See the [APL-SURP Day 2 notebook](https://uw-apl-surp.github.io/aplsurp-python/lessons/APL_SURP_Python_course_Notebook_2.html#part-4-loading-tabular-data) to compare the use of the `ctd` package with operations based solely on the `Pandas` package. But note that the CTD data file used in that notebook have a somewhat different configuration."
   ]
  },
  {
   "cell_type": "code",
   "execution_count": 1,
   "metadata": {},
   "outputs": [],
   "source": [
    "from pathlib import Path\n",
    "\n",
    "import matplotlib.pyplot as plt"
   ]
  },
  {
   "cell_type": "markdown",
   "metadata": {},
   "source": [
    "We'll use the `pathlib` package (part of the Python Standard Library) to handle file paths more seamlessly via `pathlib.Path` objects. `data_dir` is the base directory for the data files. The data files are found on our GitHub repository, under [site/notebooks/data/aplsurp_cruises_cnvs_2024](https://github.com/UW-APL-SURP/aplsurp-python/tree/main/site/notebooks/data/aplsurp_cruises_cnvs_2024)"
   ]
  },
  {
   "cell_type": "code",
   "execution_count": 2,
   "metadata": {},
   "outputs": [],
   "source": [
    "data_dir = Path(\"./data/aplsurp_cruises_cnvs_2024\")"
   ]
  },
  {
   "cell_type": "markdown",
   "metadata": {},
   "source": [
    "## Read a `.cnv` data file"
   ]
  },
  {
   "cell_type": "markdown",
   "metadata": {},
   "source": [
    "We'll use the Python [`ctd` package](https://pyoceans.github.io/python-ctd/) to read a `.cnv` file for one cast, exported directly by the [SeaBird](https://www.seabird.com/) software used for managing these data. This file includes data from all sensors (SeaBird CTD and other sensors) as well as metadata about the cruise and the cast, such as location (latitude, longitude and station name), time, sensor names and calibration, etc. The `ctd` package contains custom functionality for data pre-processing and plotting ocean vertical profiles."
   ]
  },
  {
   "cell_type": "code",
   "execution_count": 3,
   "metadata": {},
   "outputs": [],
   "source": [
    "import ctd"
   ]
  },
  {
   "cell_type": "code",
   "execution_count": 4,
   "metadata": {},
   "outputs": [
    {
     "data": {
      "text/plain": [
       "pandas.core.frame.DataFrame"
      ]
     },
     "execution_count": 4,
     "metadata": {},
     "output_type": "execute_result"
    }
   ],
   "source": [
    "cast = ctd.from_cnv(data_dir / \"20240718_CTD05_p28.cnv\")\n",
    "\n",
    "type(cast)"
   ]
  },
  {
   "cell_type": "markdown",
   "metadata": {},
   "source": [
    "The `ctd.from_cnv` function reads the `.cnv` file and returns a `Pandas` `DataFrame` with custom properties and functions. This DataFrame, `cast`, contains all \"CTD\" data collected by sensors during the cast, together with metadata either from each sensor or added to the system software by the operators. \n",
    "\n",
    "Note that the data goes well beyond conductivity, temperature and depth (pressure), since other sensors are also present."
   ]
  },
  {
   "cell_type": "markdown",
   "metadata": {},
   "source": [
    "## Examine information about the cast\n",
    "\n",
    "Let's look at the first 5 rows and the DataFrame `.info()`, to get a feel for the data:"
   ]
  },
  {
   "cell_type": "code",
   "execution_count": 5,
   "metadata": {},
   "outputs": [
    {
     "data": {
      "application/vnd.microsoft.datawrangler.viewer.v0+json": {
       "columns": [
        {
         "name": "Pressure [dbar]",
         "rawType": "float64",
         "type": "float"
        },
        {
         "name": "t090C",
         "rawType": "float64",
         "type": "float"
        },
        {
         "name": "sal00",
         "rawType": "float64",
         "type": "float"
        },
        {
         "name": "c0S/m",
         "rawType": "float64",
         "type": "float"
        },
        {
         "name": "sbox0Mm/Kg",
         "rawType": "float64",
         "type": "float"
        },
        {
         "name": "CStarTr0",
         "rawType": "float64",
         "type": "float"
        },
        {
         "name": "flECO-AFL",
         "rawType": "float64",
         "type": "float"
        },
        {
         "name": "ph",
         "rawType": "float64",
         "type": "float"
        },
        {
         "name": "par",
         "rawType": "float64",
         "type": "float"
        },
        {
         "name": "flag",
         "rawType": "bool",
         "type": "boolean"
        }
       ],
       "ref": "083a35ca-dc4b-457f-a385-241ee39f9f2c",
       "rows": [
        [
         "6.543",
         "14.014",
         "30.7695",
         "3.737626",
         "225.061",
         "68.6557",
         "6.8175",
         "8.034",
         "137.86",
         "False"
        ],
        [
         "6.558",
         "14.0138",
         "30.7709",
         "3.73776",
         "224.907",
         "68.9782",
         "6.8175",
         "8.029",
         "137.86",
         "False"
        ],
        [
         "6.543",
         "14.0135",
         "30.7719",
         "3.737836",
         "224.743",
         "69.0319",
         "6.8175",
         "8.034",
         "138.65",
         "False"
        ],
        [
         "6.558",
         "14.0134",
         "30.7718",
         "3.737811",
         "224.72",
         "69.005",
         "6.8175",
         "8.034",
         "139.04",
         "False"
        ],
        [
         "6.543",
         "14.0128",
         "30.7725",
         "3.737842",
         "224.852",
         "68.9782",
         "6.8175",
         "8.029",
         "139.04",
         "False"
        ]
       ],
       "shape": {
        "columns": 9,
        "rows": 5
       }
      },
      "text/html": [
       "<div>\n",
       "<style scoped>\n",
       "    .dataframe tbody tr th:only-of-type {\n",
       "        vertical-align: middle;\n",
       "    }\n",
       "\n",
       "    .dataframe tbody tr th {\n",
       "        vertical-align: top;\n",
       "    }\n",
       "\n",
       "    .dataframe thead th {\n",
       "        text-align: right;\n",
       "    }\n",
       "</style>\n",
       "<table border=\"1\" class=\"dataframe\">\n",
       "  <thead>\n",
       "    <tr style=\"text-align: right;\">\n",
       "      <th></th>\n",
       "      <th>t090C</th>\n",
       "      <th>sal00</th>\n",
       "      <th>c0S/m</th>\n",
       "      <th>sbox0Mm/Kg</th>\n",
       "      <th>CStarTr0</th>\n",
       "      <th>flECO-AFL</th>\n",
       "      <th>ph</th>\n",
       "      <th>par</th>\n",
       "      <th>flag</th>\n",
       "    </tr>\n",
       "    <tr>\n",
       "      <th>Pressure [dbar]</th>\n",
       "      <th></th>\n",
       "      <th></th>\n",
       "      <th></th>\n",
       "      <th></th>\n",
       "      <th></th>\n",
       "      <th></th>\n",
       "      <th></th>\n",
       "      <th></th>\n",
       "      <th></th>\n",
       "    </tr>\n",
       "  </thead>\n",
       "  <tbody>\n",
       "    <tr>\n",
       "      <th>6.543</th>\n",
       "      <td>14.0140</td>\n",
       "      <td>30.7695</td>\n",
       "      <td>3.737626</td>\n",
       "      <td>225.061</td>\n",
       "      <td>68.6557</td>\n",
       "      <td>6.8175</td>\n",
       "      <td>8.034</td>\n",
       "      <td>137.86</td>\n",
       "      <td>False</td>\n",
       "    </tr>\n",
       "    <tr>\n",
       "      <th>6.558</th>\n",
       "      <td>14.0138</td>\n",
       "      <td>30.7709</td>\n",
       "      <td>3.737760</td>\n",
       "      <td>224.907</td>\n",
       "      <td>68.9782</td>\n",
       "      <td>6.8175</td>\n",
       "      <td>8.029</td>\n",
       "      <td>137.86</td>\n",
       "      <td>False</td>\n",
       "    </tr>\n",
       "    <tr>\n",
       "      <th>6.543</th>\n",
       "      <td>14.0135</td>\n",
       "      <td>30.7719</td>\n",
       "      <td>3.737836</td>\n",
       "      <td>224.743</td>\n",
       "      <td>69.0319</td>\n",
       "      <td>6.8175</td>\n",
       "      <td>8.034</td>\n",
       "      <td>138.65</td>\n",
       "      <td>False</td>\n",
       "    </tr>\n",
       "    <tr>\n",
       "      <th>6.558</th>\n",
       "      <td>14.0134</td>\n",
       "      <td>30.7718</td>\n",
       "      <td>3.737811</td>\n",
       "      <td>224.720</td>\n",
       "      <td>69.0050</td>\n",
       "      <td>6.8175</td>\n",
       "      <td>8.034</td>\n",
       "      <td>139.04</td>\n",
       "      <td>False</td>\n",
       "    </tr>\n",
       "    <tr>\n",
       "      <th>6.543</th>\n",
       "      <td>14.0128</td>\n",
       "      <td>30.7725</td>\n",
       "      <td>3.737842</td>\n",
       "      <td>224.852</td>\n",
       "      <td>68.9782</td>\n",
       "      <td>6.8175</td>\n",
       "      <td>8.029</td>\n",
       "      <td>139.04</td>\n",
       "      <td>False</td>\n",
       "    </tr>\n",
       "  </tbody>\n",
       "</table>\n",
       "</div>"
      ],
      "text/plain": [
       "                   t090C    sal00     c0S/m  sbox0Mm/Kg  CStarTr0  flECO-AFL  \\\n",
       "Pressure [dbar]                                                                \n",
       "6.543            14.0140  30.7695  3.737626     225.061   68.6557     6.8175   \n",
       "6.558            14.0138  30.7709  3.737760     224.907   68.9782     6.8175   \n",
       "6.543            14.0135  30.7719  3.737836     224.743   69.0319     6.8175   \n",
       "6.558            14.0134  30.7718  3.737811     224.720   69.0050     6.8175   \n",
       "6.543            14.0128  30.7725  3.737842     224.852   68.9782     6.8175   \n",
       "\n",
       "                    ph     par   flag  \n",
       "Pressure [dbar]                        \n",
       "6.543            8.034  137.86  False  \n",
       "6.558            8.029  137.86  False  \n",
       "6.543            8.034  138.65  False  \n",
       "6.558            8.034  139.04  False  \n",
       "6.543            8.029  139.04  False  "
      ]
     },
     "execution_count": 5,
     "metadata": {},
     "output_type": "execute_result"
    }
   ],
   "source": [
    "cast.head()"
   ]
  },
  {
   "cell_type": "code",
   "execution_count": 6,
   "metadata": {},
   "outputs": [
    {
     "name": "stdout",
     "output_type": "stream",
     "text": [
      "<class 'pandas.core.frame.DataFrame'>\n",
      "Index: 26928 entries, 6.543 to 1.896\n",
      "Data columns (total 9 columns):\n",
      " #   Column      Non-Null Count  Dtype  \n",
      "---  ------      --------------  -----  \n",
      " 0   t090C       26928 non-null  float64\n",
      " 1   sal00       26928 non-null  float64\n",
      " 2   c0S/m       26928 non-null  float64\n",
      " 3   sbox0Mm/Kg  26928 non-null  float64\n",
      " 4   CStarTr0    26928 non-null  float64\n",
      " 5   flECO-AFL   26928 non-null  float64\n",
      " 6   ph          26928 non-null  float64\n",
      " 7   par         26928 non-null  float64\n",
      " 8   flag        26928 non-null  bool   \n",
      "dtypes: bool(1), float64(8)\n",
      "memory usage: 1.9 MB\n"
     ]
    }
   ],
   "source": [
    "cast.info()"
   ]
  },
  {
   "cell_type": "markdown",
   "metadata": {},
   "source": [
    "The index and columns in this DataFrame show the variables that are read: pressure (the index), temperature, salinity, conductivity, dissolved oxygen concentration, beam transmission, fluorescence, pH, photosynthetically active radiation, and a data quality flag."
   ]
  },
  {
   "cell_type": "markdown",
   "metadata": {},
   "source": [
    "The `ctd` package parses and stores **file metadata** (from the `.cnv` header section) in the `_metadata` property of the DataFrame, for convenient access. This property is a [Python dictionary](https://learn-python.adamemery.dev/data_structures#dictionary). Let's look at the raw content."
   ]
  },
  {
   "cell_type": "code",
   "execution_count": 7,
   "metadata": {},
   "outputs": [
    {
     "data": {
      "text/plain": [
       "{'name': 'C:\\\\Data\\\\RC0122ctd\\\\20240718_CTD05_p28',\n",
       " 'header': '* Sea-Bird SBE 9 Data File:\\n* FileName = C:\\\\Data\\\\RC0122ctd\\\\20240718_CTD05_p28.hex\\n* Software Version Seasave V 7.26.7.107\\n* Temperature SN = 1121\\n* Conductivity SN = 2881\\n* Number of Bytes Per Scan = 31\\n* Number of Voltage Words = 4\\n* Number of Scans Averaged by the Deck Unit = 1\\n* System UpLoad Time = Jul 18 2024 08:54:01\\n* NMEA Latitude = 47 42.80 N\\n* NMEA Longitude = 122 25.16 W\\n* NMEA UTC (Time) = Jul 18 2024  15:54:00\\n* Store Lat/Lon Data = Append to Every Scan\\n* SBE 11plus V 5.2\\n* number of scans to average = 1\\n* pressure baud rate = 9600\\n* NMEA baud rate = 4800\\n* GPIB address = 1\\n* advance primary conductivity  0.073 seconds\\n* advance secondary conductivity  0.073 seconds\\n* delete word 3 from scan\\n* delete word 4 from scan\\n* autorun on power up is disabled\\n* S>\\n** Ship: R/V Rachel Carson\\n** Cruise ID: RC0121\\n** Tech: Jalickee\\n** Chief Scientist: Boyar\\n** Station: p28\\n** Cast:  05\\n* System UTC = Jul 18 2024 15:54:01\\n*END*',\n",
       " 'config': '# nquan = 10\\n# nvalues = 26928\\n# units = specified\\n# name 0 = depSM: Depth [salt water, m]\\n# name 1 = t090C: Temperature [ITS-90, deg C]\\n# name 2 = sal00: Salinity, Practical [PSU]\\n# name 3 = c0S/m: Conductivity [S/m]\\n# name 4 = sbox0Mm/Kg: Oxygen, SBE 43 [umol/kg]\\n# name 5 = CStarTr0: Beam Transmission, WET Labs C-Star [%]\\n# name 6 = flECO-AFL: Fluorescence, WET Labs ECO-AFL/FL [mg/m^3]\\n# name 7 = ph: pH\\n# name 8 = par: PAR/Irradiance, Biospherical/Licor\\n# name 9 = flag:  0.000e+00\\n# span 0 =      0.619,    180.351\\n# span 1 =    11.1966,    16.1026\\n# span 2 =    29.2562,    30.7725\\n# span 3 =   3.442453,   3.755137\\n# span 4 =    186.942,    411.365\\n# span 5 =    61.9648,    93.5652\\n# span 6 =     0.0776,     8.7223\\n# span 7 =      7.539,      8.284\\n# span 8 = 1.0000e-12, 4.0607e+03\\n# span 9 = 0.0000e+00, 0.0000e+00\\n# interval = seconds: 0.0416667\\n# start_time = Jul 18 2024 15:54:00 [NMEA time, header]\\n# bad_flag = -9.990e-29\\n# <Sensors count=\"11\" >\\n#   <sensor Channel=\"1\" >\\n#     <!-- Frequency 0, Temperature -->\\n#     <TemperatureSensor SensorID=\"55\" >\\n#       <SerialNumber>1121</SerialNumber>\\n#       <CalibrationDate>09-Feb-24</CalibrationDate>\\n#       <UseG_J>1</UseG_J>\\n#       <A>0.00000000e+000</A>\\n#       <B>0.00000000e+000</B>\\n#       <C>0.00000000e+000</C>\\n#       <D>0.00000000e+000</D>\\n#       <F0_Old>0.000</F0_Old>\\n#       <G>4.80019878e-003</G>\\n#       <H>6.69292066e-004</H>\\n#       <I>2.48135251e-005</I>\\n#       <J>1.91962678e-006</J>\\n#       <F0>1000.000</F0>\\n#       <Slope>1.00000000</Slope>\\n#       <Offset>0.0000</Offset>\\n#     </TemperatureSensor>\\n#   </sensor>\\n#   <sensor Channel=\"2\" >\\n#     <!-- Frequency 1, Conductivity -->\\n#     <ConductivitySensor SensorID=\"3\" >\\n#       <SerialNumber>2881</SerialNumber>\\n#       <CalibrationDate>28-Feb-24</CalibrationDate>\\n#       <UseG_J>1</UseG_J>\\n#       <!-- Cell const and series R are applicable only for wide range sensors. -->\\n#       <SeriesR>0.0000</SeriesR>\\n#       <CellConst>2000.0000</CellConst>\\n#       <ConductivityType>0</ConductivityType>\\n#       <Coefficients equation=\"0\" >\\n#         <A>0.00000000e+000</A>\\n#         <B>0.00000000e+000</B>\\n#         <C>0.00000000e+000</C>\\n#         <D>0.00000000e+000</D>\\n#         <M>0.0</M>\\n#         <CPcor>-9.57000000e-008</CPcor>\\n#       </Coefficients>\\n#       <Coefficients equation=\"1\" >\\n#         <G>-1.01388164e+001</G>\\n#         <H>1.39630559e+000</H>\\n#         <I>-7.42875999e-004</I>\\n#         <J>1.21597149e-004</J>\\n#         <CPcor>-9.57000000e-008</CPcor>\\n#         <CTcor>3.2500e-006</CTcor>\\n#         <!-- WBOTC not applicable unless ConductivityType = 1. -->\\n#         <WBOTC>0.00000000e+000</WBOTC>\\n#       </Coefficients>\\n#       <Slope>1.00000000</Slope>\\n#       <Offset>0.00000</Offset>\\n#     </ConductivitySensor>\\n#   </sensor>\\n#   <sensor Channel=\"3\" >\\n#     <!-- Frequency 2, Pressure, Digiquartz with TC -->\\n#     <PressureSensor SensorID=\"45\" >\\n#       <SerialNumber>0216</SerialNumber>\\n#       <CalibrationDate>11-Jan-24</CalibrationDate>\\n#       <C1>-4.562074e+004</C1>\\n#       <C2>1.820199e-001</C2>\\n#       <C3>1.580430e-002</C3>\\n#       <D1>3.615300e-002</D1>\\n#       <D2>0.000000e+000</D2>\\n#       <T1>3.024088e+001</T1>\\n#       <T2>-3.472576e-004</T2>\\n#       <T3>4.427560e-006</T3>\\n#       <T4>3.763240e-009</T4>\\n#       <Slope>0.99989457</Slope>\\n#       <Offset>-4.96465</Offset>\\n#       <T5>0.000000e+000</T5>\\n#       <AD590M>1.176000e-002</AD590M>\\n#       <AD590B>-8.544400e+000</AD590B>\\n#     </PressureSensor>\\n#   </sensor>\\n#   <sensor Channel=\"4\" >\\n#     <!-- A/D voltage 0, Oxygen, SBE 43 -->\\n#     <OxygenSensor SensorID=\"38\" >\\n#       <SerialNumber>0023</SerialNumber>\\n#       <CalibrationDate>01-Mar-24</CalibrationDate>\\n#       <Use2007Equation>1</Use2007Equation>\\n#       <CalibrationCoefficients equation=\"0\" >\\n#         <!-- Coefficients for Owens-Millard equation. -->\\n#         <Boc>0.0000</Boc>\\n#         <Soc>0.0000e+000</Soc>\\n#         <offset>0.0000</offset>\\n#         <Pcor>0.00e+000</Pcor>\\n#         <Tcor>0.0000</Tcor>\\n#         <Tau>0.0</Tau>\\n#       </CalibrationCoefficients>\\n#       <CalibrationCoefficients equation=\"1\" >\\n#         <!-- Coefficients for Sea-Bird equation - SBE calibration in 2007 and later. -->\\n#         <Soc>4.4983e-001</Soc>\\n#         <offset>-0.4965</offset>\\n#         <A>-3.3116e-003</A>\\n#         <B> 1.6506e-004</B>\\n#         <C>-2.3831e-006</C>\\n#         <D0> 2.5826e+000</D0>\\n#         <D1> 1.92634e-004</D1>\\n#         <D2>-4.64803e-002</D2>\\n#         <E> 3.6000e-002</E>\\n#         <Tau20> 1.1400</Tau20>\\n#         <H1>-3.3000e-002</H1>\\n#         <H2> 5.0000e+003</H2>\\n#         <H3> 1.4500e+003</H3>\\n#       </CalibrationCoefficients>\\n#     </OxygenSensor>\\n#   </sensor>\\n#   <sensor Channel=\"5\" >\\n#     <!-- A/D voltage 1, pH -->\\n#     <pH_Sensor SensorID=\"43\" >\\n#       <SerialNumber>0929</SerialNumber>\\n#       <CalibrationDate>7/8/2024</CalibrationDate>\\n#       <Slope>4.5430</Slope>\\n#       <Offset>2.8338</Offset>\\n#     </pH_Sensor>\\n#   </sensor>\\n#   <sensor Channel=\"6\" >\\n#     <!-- A/D voltage 2, Fluorometer, WET Labs ECO-AFL/FL -->\\n#     <FluoroWetlabECO_AFL_FL_Sensor SensorID=\"20\" >\\n#       <SerialNumber>FLRTD-8543</SerialNumber>\\n#       <CalibrationDate>2023-10-06</CalibrationDate>\\n#       <ScaleFactor>6.00000000e+000</ScaleFactor>\\n#       <!-- Dark output -->\\n#       <Vblank>0.0530</Vblank>\\n#     </FluoroWetlabECO_AFL_FL_Sensor>\\n#   </sensor>\\n#   <sensor Channel=\"7\" >\\n#     <!-- A/D voltage 3, Transmissometer, WET Labs C-Star -->\\n#     <WET_LabsCStar SensorID=\"71\" >\\n#       <SerialNumber>CST-2148</SerialNumber>\\n#       <CalibrationDate>2024-04-05</CalibrationDate>\\n#       <M>22.0074</M>\\n#       <B>-0.1342</B>\\n#       <PathLength>0.250</PathLength>\\n#     </WET_LabsCStar>\\n#   </sensor>\\n#   <sensor Channel=\"8\" >\\n#     <!-- A/D voltage 4, Altimeter -->\\n#     <AltimeterSensor SensorID=\"0\" >\\n#       <SerialNumber>1098</SerialNumber>\\n#       <CalibrationDate></CalibrationDate>\\n#       <ScaleFactor>15.000</ScaleFactor>\\n#       <Offset>0.000</Offset>\\n#     </AltimeterSensor>\\n#   </sensor>\\n#   <sensor Channel=\"9\" >\\n#     <!-- A/D voltage 5, Free -->\\n#   </sensor>\\n#   <sensor Channel=\"10\" >\\n#     <!-- A/D voltage 6, PAR/Irradiance, Biospherical/Licor -->\\n#     <PAR_BiosphericalLicorChelseaSensor SensorID=\"42\" >\\n#       <SerialNumber>QSP-2350-70840</SerialNumber>\\n#       <CalibrationDate>2023-12-18</CalibrationDate>\\n#       <M>1.00000000</M>\\n#       <B>0.00000000</B>\\n#       <CalibrationConstant>11111111111.11100000</CalibrationConstant>\\n#       <Multiplier>1.00000000</Multiplier>\\n#       <Offset>-0.90110500</Offset>\\n#     </PAR_BiosphericalLicorChelseaSensor>\\n#   </sensor>\\n#   <sensor Channel=\"11\" >\\n#     <!-- A/D voltage 7, Free -->\\n#   </sensor>\\n# </Sensors>\\n# datcnv_date = Jul 19 2024 14:30:42, 7.26.7.129 [datcnv_vars = 9]\\n# datcnv_in = C:\\\\Data\\\\RC0122ctd\\\\20240718_CTD05_p28.hex C:\\\\Data\\\\RC0122ctd\\\\20240716_CTD02_P29.XMLCON\\n# datcnv_skipover = 0\\n# datcnv_ox_hysteresis_correction = yes\\n# datcnv_ox_tau_correction = yes\\n# file_type = ascii',\n",
       " 'names': ['depSM',\n",
       "  't090C',\n",
       "  'sal00',\n",
       "  'c0S/m',\n",
       "  'sbox0Mm/Kg',\n",
       "  'CStarTr0',\n",
       "  'flECO-AFL',\n",
       "  'ph',\n",
       "  'par',\n",
       "  'flag'],\n",
       " 'skiprows': 228,\n",
       " 'time': datetime.datetime(2024, 7, 18, 22, 54, tzinfo=datetime.timezone.utc),\n",
       " 'lon': np.float64(-122.41933333333333),\n",
       " 'lat': np.float64(47.71333333333333)}"
      ]
     },
     "execution_count": 7,
     "metadata": {},
     "output_type": "execute_result"
    }
   ],
   "source": [
    "cast._metadata"
   ]
  },
  {
   "cell_type": "markdown",
   "metadata": {},
   "source": [
    "Let's look at the metadata more closely by first examining the dictionary \"keys\", then some of the individual items:"
   ]
  },
  {
   "cell_type": "code",
   "execution_count": 8,
   "metadata": {},
   "outputs": [
    {
     "data": {
      "text/plain": [
       "dict_keys(['name', 'header', 'config', 'names', 'skiprows', 'time', 'lon', 'lat'])"
      ]
     },
     "execution_count": 8,
     "metadata": {},
     "output_type": "execute_result"
    }
   ],
   "source": [
    "metadata = cast._metadata\n",
    "\n",
    "metadata.keys()"
   ]
  },
  {
   "cell_type": "markdown",
   "metadata": {},
   "source": [
    "We'll store cast time, latitude and longitude in variables for reuse later in the notebook"
   ]
  },
  {
   "cell_type": "code",
   "execution_count": 9,
   "metadata": {},
   "outputs": [
    {
     "data": {
      "text/plain": [
       "(datetime.datetime(2024, 7, 18, 22, 54, tzinfo=datetime.timezone.utc),\n",
       " np.float64(47.71333333333333),\n",
       " np.float64(-122.41933333333333))"
      ]
     },
     "execution_count": 9,
     "metadata": {},
     "output_type": "execute_result"
    }
   ],
   "source": [
    "metadata['time'], metadata['lat'], metadata['lon']"
   ]
  },
  {
   "cell_type": "code",
   "execution_count": 10,
   "metadata": {},
   "outputs": [
    {
     "name": "stdout",
     "output_type": "stream",
     "text": [
      "* Sea-Bird SBE 9 Data File:\n",
      "* FileName = C:\\Data\\RC0122ctd\\20240718_CTD05_p28.hex\n",
      "* Software Version Seasave V 7.26.7.107\n",
      "* Temperature SN = 1121\n",
      "* Conductivity SN = 2881\n",
      "* Number of Bytes Per Scan = 31\n",
      "* Number of Voltage Words = 4\n",
      "* Number of Scans Averaged by the Deck Unit = 1\n",
      "* System UpLoad Time = Jul 18 2024 08:54:01\n",
      "* NMEA Latitude = 47 42.80 N\n",
      "* NMEA Longitude = 122 25.16 W\n",
      "* NMEA UTC (Time) = Jul 18 2024  15:54:00\n",
      "* Store Lat/Lon Data = Append to Every Scan\n",
      "* SBE 11plus V 5.2\n",
      "* number of scans to average = 1\n",
      "* pressure baud rate = 9600\n",
      "* NMEA baud rate = 4800\n",
      "* GPIB address = 1\n",
      "* advance primary conductivity  0.073 seconds\n",
      "* advance secondary conductivity  0.073 seconds\n",
      "* delete word 3 from scan\n",
      "* delete word 4 from scan\n",
      "* autorun on power up is disabled\n",
      "* S>\n",
      "** Ship: R/V Rachel Carson\n",
      "** Cruise ID: RC0121\n",
      "** Tech: Jalickee\n",
      "** Chief Scientist: Boyar\n",
      "** Station: p28\n",
      "** Cast:  05\n",
      "* System UTC = Jul 18 2024 15:54:01\n",
      "*END*\n"
     ]
    }
   ],
   "source": [
    "print(metadata['header'])"
   ]
  },
  {
   "cell_type": "code",
   "execution_count": 11,
   "metadata": {},
   "outputs": [
    {
     "name": "stdout",
     "output_type": "stream",
     "text": [
      "# nquan = 10\n",
      "# nvalues = 26928\n",
      "# units = specified\n",
      "# name 0 = depSM: Depth [salt water, m]\n",
      "# name 1 = t090C: Temperature [ITS-90, deg C]\n",
      "# name 2 = sal00: Salinity, Practical [PSU]\n",
      "# name 3 = c0S/m: Conductivity [S/m]\n",
      "# name 4 = sbox0Mm/Kg: Oxygen, SBE 43 [umol/kg]\n",
      "# name 5 = CStarTr0: Beam Transmission, WET Labs C-Star [%]\n",
      "# name 6 = flECO-AFL: Fluorescence, WET Labs ECO-AFL/FL [mg/m^3]\n",
      "# name 7 = ph: pH\n",
      "# name 8 = par: PAR/Irradiance, Biospherical/Licor\n",
      "# name 9 = flag:  0.000e+00\n",
      "# span 0 =      0.619,    180.351\n",
      "# span 1 =    11.1966,    16.1026\n",
      "# span 2 =    29.2562,    30.7725\n",
      "# span 3 =   3.442453,   3.755137\n",
      "# span 4 =    186.942,    411.365\n",
      "# span 5 =    61.9648,    93.5652\n",
      "# span 6 =     0.0776,     8.7223\n",
      "# span 7 =      7.539,      8.284\n",
      "# span 8 = 1.0000e-12, 4.0607e+03\n",
      "# span 9 = 0.0000e+00, 0.0000e+00\n",
      "# interval = seconds: 0.0416667\n",
      "# start_time = Jul 18 2024 15:54:00 [NMEA time, header]\n",
      "# bad_flag = -9.990e-29\n",
      "# <Sensors count=\"11\" >\n",
      "#   <sensor Channel=\"1\" >\n",
      "#     <!-- Frequency 0, Temperature -->\n",
      "#     <TemperatureSensor SensorID=\"55\" >\n",
      "#       <SerialNumber>1121</SerialNumber>\n",
      "#       <CalibrationDate>09-Feb-24</CalibrationDate>\n",
      "#       <UseG_J>1</UseG_J>\n",
      "#       <A>0.00000000e+000</A>\n",
      "#       <B>0.00000000e+000</B>\n",
      "#       <C>0.00000000e+000</C>\n",
      "#       <D>0.00000000e+000</D>\n",
      "#       <F0_Old>0.000</F0_Old>\n",
      "#       <G>4.80019878e-003</G>\n",
      "#       <H>6.69292066e-004</H>\n",
      "#       <I>2.48135251e-005</I>\n",
      "#       <J>1.91962678e-006</J>\n",
      "#       <F0>1000.000</F0>\n",
      "#       <Slope>1.00000000</Slope>\n",
      "#       <Offset>0.0000</Offset>\n",
      "#     </TemperatureSensor>\n",
      "#   </sensor>\n",
      "#   <sensor Channel=\"2\" >\n",
      "#     <!-- Frequency 1, Conductivity -->\n",
      "#     <ConductivitySensor SensorID=\"3\" >\n",
      "#       <SerialNumber>2881</SerialNumber>\n",
      "#       <CalibrationDate>28-Feb-24</CalibrationDate>\n",
      "#       <UseG_J>1</UseG_J>\n",
      "#       <!-- Cell const and series R are applicable only for wide range sensors. -->\n",
      "#       <SeriesR>0.0000</SeriesR>\n",
      "#       <CellConst>2000.0000</CellConst>\n",
      "#       <ConductivityType>0</ConductivityType>\n",
      "#       <Coefficients equation=\"0\" >\n",
      "#         <A>0.00000000e+000</A>\n",
      "#         <B>0.00000000e+000</B>\n",
      "#         <C>0.00000000e+000</C>\n",
      "#         <D>0.00000000e+000</D>\n",
      "#         <M>0.0</M>\n",
      "#         <CPcor>-9.57000000e-008</CPcor>\n",
      "#       </Coefficients>\n",
      "#       <Coefficients equation=\"1\" >\n",
      "#         <G>-1.01388164e+001</G>\n",
      "#         <H>1.39630559e+000</H>\n",
      "#         <I>-7.42875999e-004</I>\n",
      "#         <J>1.21597149e-004</J>\n",
      "#         <CPcor>-9.57000000e-008</CPcor>\n",
      "#         <CTcor>3.2500e-006</CTcor>\n",
      "#         <!-- WBOTC not applicable unless ConductivityType = 1. -->\n",
      "#         <WBOTC>0.00000000e+000</WBOTC>\n",
      "#       </Coefficients>\n",
      "#       <Slope>1.00000000</Slope>\n",
      "#       <Offset>0.00000</Offset>\n",
      "#     </ConductivitySensor>\n",
      "#   </sensor>\n",
      "#   <sensor Channel=\"3\" >\n",
      "#     <!-- Frequency 2, Pressure, Digiquartz with TC -->\n",
      "#     <PressureSensor SensorID=\"45\" >\n",
      "#       <SerialNumber>0216</SerialNumber>\n",
      "#       <CalibrationDate>11-Jan-24</CalibrationDate>\n",
      "#       <C1>-4.562074e+004</C1>\n",
      "#       <C2>1.820199e-001</C2>\n",
      "#       <C3>1.580430e-002</C3>\n",
      "#       <D1>3.615300e-002</D1>\n",
      "#       <D2>0.000000e+000</D2>\n",
      "#       <T1>3.024088e+001</T1>\n",
      "#       <T2>-3.472576e-004</T2>\n",
      "#       <T3>4.427560e-006</T3>\n",
      "#       <T4>3.763240e-009</T4>\n",
      "#       <Slope>0.99989457</Slope>\n",
      "#       <Offset>-4.96465</Offset>\n",
      "#       <T5>0.000000e+000</T5>\n",
      "#       <AD590M>1.176000e-002</AD590M>\n",
      "#       <AD590B>-8.544400e+000</AD590B>\n",
      "#     </PressureSensor>\n",
      "#   </sensor>\n",
      "#   <sensor Channel=\"4\" >\n",
      "#     <!-- A/D voltage 0, Oxygen, SBE 43 -->\n",
      "#     <OxygenSensor SensorID=\"38\" >\n",
      "#       <SerialNumber>0023</SerialNumber>\n",
      "#       <CalibrationDate>01-Mar-24</CalibrationDate>\n",
      "#       <Use2007Equation>1</Use2007Equation>\n",
      "#       <CalibrationCoefficients equation=\"0\" >\n",
      "#         <!-- Coefficients for Owens-Millard equation. -->\n",
      "#         <Boc>0.0000</Boc>\n",
      "#         <Soc>0.0000e+000</Soc>\n",
      "#         <offset>0.0000</offset>\n",
      "#         <Pcor>0.00e+000</Pcor>\n",
      "#         <Tcor>0.0000</Tcor>\n",
      "#         <Tau>0.0</Tau>\n",
      "#       </CalibrationCoefficients>\n",
      "#       <CalibrationCoefficients equation=\"1\" >\n",
      "#         <!-- Coefficients for Sea-Bird equation - SBE calibration in 2007 and later. -->\n",
      "#         <Soc>4.4983e-001</Soc>\n",
      "#         <offset>-0.4965</offset>\n",
      "#         <A>-3.3116e-003</A>\n",
      "#         <B> 1.6506e-004</B>\n",
      "#         <C>-2.3831e-006</C>\n",
      "#         <D0> 2.5826e+000</D0>\n",
      "#         <D1> 1.92634e-004</D1>\n",
      "#         <D2>-4.64803e-002</D2>\n",
      "#         <E> 3.6000e-002</E>\n",
      "#         <Tau20> 1.1400</Tau20>\n",
      "#         <H1>-3.3000e-002</H1>\n",
      "#         <H2> 5.0000e+003</H2>\n",
      "#         <H3> 1.4500e+003</H3>\n",
      "#       </CalibrationCoefficients>\n",
      "#     </OxygenSensor>\n",
      "#   </sensor>\n",
      "#   <sensor Channel=\"5\" >\n",
      "#     <!-- A/D voltage 1, pH -->\n",
      "#     <pH_Sensor SensorID=\"43\" >\n",
      "#       <SerialNumber>0929</SerialNumber>\n",
      "#       <CalibrationDate>7/8/2024</CalibrationDate>\n",
      "#       <Slope>4.5430</Slope>\n",
      "#       <Offset>2.8338</Offset>\n",
      "#     </pH_Sensor>\n",
      "#   </sensor>\n",
      "#   <sensor Channel=\"6\" >\n",
      "#     <!-- A/D voltage 2, Fluorometer, WET Labs ECO-AFL/FL -->\n",
      "#     <FluoroWetlabECO_AFL_FL_Sensor SensorID=\"20\" >\n",
      "#       <SerialNumber>FLRTD-8543</SerialNumber>\n",
      "#       <CalibrationDate>2023-10-06</CalibrationDate>\n",
      "#       <ScaleFactor>6.00000000e+000</ScaleFactor>\n",
      "#       <!-- Dark output -->\n",
      "#       <Vblank>0.0530</Vblank>\n",
      "#     </FluoroWetlabECO_AFL_FL_Sensor>\n",
      "#   </sensor>\n",
      "#   <sensor Channel=\"7\" >\n",
      "#     <!-- A/D voltage 3, Transmissometer, WET Labs C-Star -->\n",
      "#     <WET_LabsCStar SensorID=\"71\" >\n",
      "#       <SerialNumber>CST-2148</SerialNumber>\n",
      "#       <CalibrationDate>2024-04-05</CalibrationDate>\n",
      "#       <M>22.0074</M>\n",
      "#       <B>-0.1342</B>\n",
      "#       <PathLength>0.250</PathLength>\n",
      "#     </WET_LabsCStar>\n",
      "#   </sensor>\n",
      "#   <sensor Channel=\"8\" >\n",
      "#     <!-- A/D voltage 4, Altimeter -->\n",
      "#     <AltimeterSensor SensorID=\"0\" >\n",
      "#       <SerialNumber>1098</SerialNumber>\n",
      "#       <CalibrationDate></CalibrationDate>\n",
      "#       <ScaleFactor>15.000</ScaleFactor>\n",
      "#       <Offset>0.000</Offset>\n",
      "#     </AltimeterSensor>\n",
      "#   </sensor>\n",
      "#   <sensor Channel=\"9\" >\n",
      "#     <!-- A/D voltage 5, Free -->\n",
      "#   </sensor>\n",
      "#   <sensor Channel=\"10\" >\n",
      "#     <!-- A/D voltage 6, PAR/Irradiance, Biospherical/Licor -->\n",
      "#     <PAR_BiosphericalLicorChelseaSensor SensorID=\"42\" >\n",
      "#       <SerialNumber>QSP-2350-70840</SerialNumber>\n",
      "#       <CalibrationDate>2023-12-18</CalibrationDate>\n",
      "#       <M>1.00000000</M>\n",
      "#       <B>0.00000000</B>\n",
      "#       <CalibrationConstant>11111111111.11100000</CalibrationConstant>\n",
      "#       <Multiplier>1.00000000</Multiplier>\n",
      "#       <Offset>-0.90110500</Offset>\n",
      "#     </PAR_BiosphericalLicorChelseaSensor>\n",
      "#   </sensor>\n",
      "#   <sensor Channel=\"11\" >\n",
      "#     <!-- A/D voltage 7, Free -->\n",
      "#   </sensor>\n",
      "# </Sensors>\n",
      "# datcnv_date = Jul 19 2024 14:30:42, 7.26.7.129 [datcnv_vars = 9]\n",
      "# datcnv_in = C:\\Data\\RC0122ctd\\20240718_CTD05_p28.hex C:\\Data\\RC0122ctd\\20240716_CTD02_P29.XMLCON\n",
      "# datcnv_skipover = 0\n",
      "# datcnv_ox_hysteresis_correction = yes\n",
      "# datcnv_ox_tau_correction = yes\n",
      "# file_type = ascii\n"
     ]
    }
   ],
   "source": [
    "print(metadata['config'])"
   ]
  },
  {
   "cell_type": "markdown",
   "metadata": {},
   "source": [
    "## Extract and visualize downcast data only"
   ]
  },
  {
   "cell_type": "markdown",
   "metadata": {},
   "source": [
    "The data file contains both \"downcast\" and \"upcast\" data, but in this notebook **we'll focus on the downcast data.** The `ctd` package added a `.split()` function to the `cast` DataFrame that separates the data into downcast and upcast:"
   ]
  },
  {
   "cell_type": "code",
   "execution_count": 12,
   "metadata": {},
   "outputs": [],
   "source": [
    "# Separate the data into downcast and upcast\n",
    "down_cast_df, up_cast_df = cast.split()"
   ]
  },
  {
   "cell_type": "markdown",
   "metadata": {},
   "source": [
    "`cast.info()` told us there are 26,928 sets of observations in the file. After splitting and selecting only the downcast, we're left with 14,921"
   ]
  },
  {
   "cell_type": "code",
   "execution_count": 13,
   "metadata": {},
   "outputs": [
    {
     "data": {
      "text/plain": [
       "14921"
      ]
     },
     "execution_count": 13,
     "metadata": {},
     "output_type": "execute_result"
    }
   ],
   "source": [
    "len(down_cast_df)"
   ]
  },
  {
   "cell_type": "markdown",
   "metadata": {},
   "source": [
    "We can use the `ctd` `plot_cast` function to plot depth profiles of one or more variables. This function has been added to the DataFrame. `plot_cast` uses plot settings that are tuned to how we typically would visualize depth profiles, so we can get a user-friendly plot very easily.\n",
    "\n",
    "First, let's do a simple plot of temperature."
   ]
  },
  {
   "cell_type": "code",
   "execution_count": 14,
   "metadata": {},
   "outputs": [
    {
     "data": {
      "text/plain": [
       "<Axes: xlabel='t090C', ylabel='Pressure [dbar]'>"
      ]
     },
     "execution_count": 14,
     "metadata": {},
     "output_type": "execute_result"
    },
    {
     "data": {
      "image/png": "[encoded data removed]",
      "text/plain": [
       "<Figure size 525x675 with 1 Axes>"
      ]
     },
     "metadata": {},
     "output_type": "display_data"
    }
   ],
   "source": [
    "down_cast_df[\"t090C\"].plot_cast()"
   ]
  },
  {
   "cell_type": "markdown",
   "metadata": {},
   "source": [
    "We can also use `plot_cast` to plot depth profiles of two variables on different axes by using the `ax` and `secondary_y` arguments. Note that the raw data is somewhat \"noisy\"."
   ]
  },
  {
   "cell_type": "code",
   "execution_count": 15,
   "metadata": {},
   "outputs": [
    {
     "data": {
      "image/png": "[encoded data removed]",
      "text/plain": [
       "<Figure size 525x675 with 2 Axes>"
      ]
     },
     "metadata": {},
     "output_type": "display_data"
    }
   ],
   "source": [
    "ax0 = down_cast_df[\"t090C\"].plot_cast(label=\"Temperature (°C)\")\n",
    "ax1 = down_cast_df[\"c0S/m\"].plot_cast(\n",
    "    ax=ax0,\n",
    "    label=\"Conductivity (S/m)\",\n",
    "    color=\"red\",\n",
    "    secondary_y=True,\n",
    ")\n",
    "\n",
    "ax0.legend(loc=\"lower left\")\n",
    "ax1.legend(loc=\"upper left\");"
   ]
  },
  {
   "cell_type": "markdown",
   "metadata": {},
   "source": [
    "Here are two more variables, both related to light. Fluorescence reflects chlorophyll concentration."
   ]
  },
  {
   "cell_type": "code",
   "execution_count": 16,
   "metadata": {},
   "outputs": [
    {
     "data": {
      "image/png": "[encoded data removed]",
      "text/plain": [
       "<Figure size 525x675 with 2 Axes>"
      ]
     },
     "metadata": {},
     "output_type": "display_data"
    }
   ],
   "source": [
    "ax0 = down_cast_df[\"par\"].plot_cast(\n",
    "    label=\"Photosynthetically Active Radiation\")\n",
    "ax1 = down_cast_df[\"flECO-AFL\"].plot_cast(\n",
    "    ax=ax0,\n",
    "    label=\"Fluorescence ($mg/m^3$)\",\n",
    "    color=\"red\",\n",
    "    secondary_y=True,\n",
    ")\n",
    "\n",
    "ax0.legend(loc=\"lower left\")\n",
    "ax1.legend(loc=\"upper left\");"
   ]
  },
  {
   "cell_type": "markdown",
   "metadata": {},
   "source": [
    "## Pre-process temperature and conductivity\n",
    "\n",
    "We've seen that the raw data are somewhat noisy; they contain wiggles and unexpected jumps. Let's use functions provided by the `ctd` package to perform data cleaning and pre-processing steps that are typically applied to such data. Note how the functions are \"chained\" to apply in a sequence, one after the other. \n",
    "\n",
    "Here, we'll retain only temperature, conductivity and pressure (pressure is from the DataFrame index)."
   ]
  },
  {
   "cell_type": "code",
   "execution_count": 17,
   "metadata": {},
   "outputs": [
    {
     "data": {
      "application/vnd.microsoft.datawrangler.viewer.v0+json": {
       "columns": [
        {
         "name": "index",
         "rawType": "float64",
         "type": "float"
        },
        {
         "name": "t090C",
         "rawType": "float64",
         "type": "float"
        },
        {
         "name": "c0S/m",
         "rawType": "float64",
         "type": "float"
        }
       ],
       "ref": "b713b672-5a1c-45ef-be7b-d64530946a95",
       "rows": [
        [
         "7.0",
         "13.861522229027678",
         "3.6057256299053586"
        ],
        [
         "8.0",
         "13.69565794766696",
         "3.5938353142773414"
        ],
        [
         "9.0",
         "13.532086294176892",
         "3.5821122677125983"
        ],
        [
         "10.0",
         "13.374312236794625",
         "3.570814249480413"
        ],
        [
         "11.0",
         "13.225273832151773",
         "3.560157196627932"
        ]
       ],
       "shape": {
        "columns": 2,
        "rows": 5
       }
      },
      "text/html": [
       "<div>\n",
       "<style scoped>\n",
       "    .dataframe tbody tr th:only-of-type {\n",
       "        vertical-align: middle;\n",
       "    }\n",
       "\n",
       "    .dataframe tbody tr th {\n",
       "        vertical-align: top;\n",
       "    }\n",
       "\n",
       "    .dataframe thead th {\n",
       "        text-align: right;\n",
       "    }\n",
       "</style>\n",
       "<table border=\"1\" class=\"dataframe\">\n",
       "  <thead>\n",
       "    <tr style=\"text-align: right;\">\n",
       "      <th></th>\n",
       "      <th>t090C</th>\n",
       "      <th>c0S/m</th>\n",
       "    </tr>\n",
       "  </thead>\n",
       "  <tbody>\n",
       "    <tr>\n",
       "      <th>7.0</th>\n",
       "      <td>13.861522</td>\n",
       "      <td>3.605726</td>\n",
       "    </tr>\n",
       "    <tr>\n",
       "      <th>8.0</th>\n",
       "      <td>13.695658</td>\n",
       "      <td>3.593835</td>\n",
       "    </tr>\n",
       "    <tr>\n",
       "      <th>9.0</th>\n",
       "      <td>13.532086</td>\n",
       "      <td>3.582112</td>\n",
       "    </tr>\n",
       "    <tr>\n",
       "      <th>10.0</th>\n",
       "      <td>13.374312</td>\n",
       "      <td>3.570814</td>\n",
       "    </tr>\n",
       "    <tr>\n",
       "      <th>11.0</th>\n",
       "      <td>13.225274</td>\n",
       "      <td>3.560157</td>\n",
       "    </tr>\n",
       "  </tbody>\n",
       "</table>\n",
       "</div>"
      ],
      "text/plain": [
       "          t090C     c0S/m\n",
       "7.0   13.861522  3.605726\n",
       "8.0   13.695658  3.593835\n",
       "9.0   13.532086  3.582112\n",
       "10.0  13.374312  3.570814\n",
       "11.0  13.225274  3.560157"
      ]
     },
     "execution_count": 17,
     "metadata": {},
     "output_type": "execute_result"
    }
   ],
   "source": [
    "proc = (\n",
    "    down_cast_df[[\"t090C\", \"c0S/m\"]]\n",
    "    # Remove all data above the water line\n",
    "    .remove_above_water()\n",
    "    # Remove all the data above a certain index value, where index can be pressure or depth\n",
    "    # (it can be unreliable)\n",
    "    .remove_up_to(idx=4)\n",
    "    # Remove data spikes\n",
    "    .despike(n1=2, n2=20, block=100)\n",
    "    # Apply \"low-pass\" filter, to remove high-frequency wiggles\n",
    "    .lp_filter()\n",
    "    # Remove pressure reversals from the index\n",
    "    .press_check()\n",
    "    # Interpolate gaps (this is a Pandas function)\n",
    "    .interpolate()\n",
    "    # Bin-average the index (usually pressure) to a given interval (here, 1 meter)\n",
    "    .bindata(delta=1, method=\"interpolate\")\n",
    "    # Smooth the data using a window with the requested size\n",
    "    .smooth(window_len=21, window=\"hanning\")\n",
    ")\n",
    "\n",
    "proc.head()"
   ]
  },
  {
   "cell_type": "markdown",
   "metadata": {},
   "source": [
    "Now let's compare the raw vs pre-processed temperature:"
   ]
  },
  {
   "cell_type": "code",
   "execution_count": 18,
   "metadata": {},
   "outputs": [
    {
     "data": {
      "image/png": "[encoded data removed]",
      "text/plain": [
       "<Figure size 525x675 with 1 Axes>"
      ]
     },
     "metadata": {},
     "output_type": "display_data"
    }
   ],
   "source": [
    "ax = down_cast_df[\"t090C\"].plot_cast(label=\"Raw\")\n",
    "proc[\"t090C\"].plot_cast(ax=ax, label=\"Pre-processed\")\n",
    "\n",
    "ax.grid(True)\n",
    "ax.legend(loc=\"lower right\")\n",
    "plt.xlabel(\"Temperature (°C)\");"
   ]
  },
  {
   "cell_type": "markdown",
   "metadata": {},
   "source": [
    "## Map the locations of all casts\n",
    "\n",
    "The [`folium` package](https://python-visualization.github.io/folium/) provides a convenient tool for creating interactive maps. First we'll map the location of the cast we've been examining."
   ]
  },
  {
   "cell_type": "code",
   "execution_count": 19,
   "metadata": {},
   "outputs": [],
   "source": [
    "import folium"
   ]
  },
  {
   "cell_type": "markdown",
   "metadata": {},
   "source": [
    "After initializing a `folium` map, we add a \"marker\" with the information about the cast and some plotting configurations"
   ]
  },
  {
   "cell_type": "code",
   "execution_count": 20,
   "metadata": {},
   "outputs": [
    {
     "data": {
      "text/html": [
       "<div style=\"width:100%;\"><div style=\"position:relative;width:100%;height:0;padding-bottom:60%;\"><span style=\"color:#565656\">Make this Notebook Trusted to load map: File -> Trust Notebook</span><iframe srcdoc=\"&lt;!DOCTYPE html&gt;\n",
       "&lt;html&gt;\n",
       "&lt;head&gt;\n",
       "    \n",
       "    &lt;meta http-equiv=&quot;content-type&quot; content=&quot;text/html; charset=UTF-8&quot; /&gt;\n",
       "    &lt;script src=&quot;https://cdn.jsdelivr.net/npm/leaflet@1.9.3/dist/leaflet.js&quot;&gt;&lt;/script&gt;\n",
       "    &lt;script src=&quot;https://code.jquery.com/jquery-3.7.1.min.js&quot;&gt;&lt;/script&gt;\n",
       "    &lt;script src=&quot;https://cdn.jsdelivr.net/npm/bootstrap@5.2.2/dist/js/bootstrap.bundle.min.js&quot;&gt;&lt;/script&gt;\n",
       "    &lt;script src=&quot;https://cdnjs.cloudflare.com/ajax/libs/Leaflet.awesome-markers/2.0.2/leaflet.awesome-markers.js&quot;&gt;&lt;/script&gt;\n",
       "    &lt;link rel=&quot;stylesheet&quot; href=&quot;https://cdn.jsdelivr.net/npm/leaflet@1.9.3/dist/leaflet.css&quot;/&gt;\n",
       "    &lt;link rel=&quot;stylesheet&quot; href=&quot;https://cdn.jsdelivr.net/npm/bootstrap@5.2.2/dist/css/bootstrap.min.css&quot;/&gt;\n",
       "    &lt;link rel=&quot;stylesheet&quot; href=&quot;https://netdna.bootstrapcdn.com/bootstrap/3.0.0/css/bootstrap-glyphicons.css&quot;/&gt;\n",
       "    &lt;link rel=&quot;stylesheet&quot; href=&quot;https://cdn.jsdelivr.net/npm/@fortawesome/fontawesome-free@6.2.0/css/all.min.css&quot;/&gt;\n",
       "    &lt;link rel=&quot;stylesheet&quot; href=&quot;https://cdnjs.cloudflare.com/ajax/libs/Leaflet.awesome-markers/2.0.2/leaflet.awesome-markers.css&quot;/&gt;\n",
       "    &lt;link rel=&quot;stylesheet&quot; href=&quot;https://cdn.jsdelivr.net/gh/python-visualization/folium/folium/templates/leaflet.awesome.rotate.min.css&quot;/&gt;\n",
       "    \n",
       "            &lt;meta name=&quot;viewport&quot; content=&quot;width=device-width,\n",
       "                initial-scale=1.0, maximum-scale=1.0, user-scalable=no&quot; /&gt;\n",
       "            &lt;style&gt;\n",
       "                #map_b2a0e08618a8d8dea9a52ad4bae1dda0 {\n",
       "                    position: relative;\n",
       "                    width: 100.0%;\n",
       "                    height: 100.0%;\n",
       "                    left: 0.0%;\n",
       "                    top: 0.0%;\n",
       "                }\n",
       "                .leaflet-container { font-size: 1rem; }\n",
       "            &lt;/style&gt;\n",
       "\n",
       "            &lt;style&gt;html, body {\n",
       "                width: 100%;\n",
       "                height: 100%;\n",
       "                margin: 0;\n",
       "                padding: 0;\n",
       "            }\n",
       "            &lt;/style&gt;\n",
       "\n",
       "            &lt;style&gt;#map {\n",
       "                position:absolute;\n",
       "                top:0;\n",
       "                bottom:0;\n",
       "                right:0;\n",
       "                left:0;\n",
       "                }\n",
       "            &lt;/style&gt;\n",
       "\n",
       "            &lt;script&gt;\n",
       "                L_NO_TOUCH = false;\n",
       "                L_DISABLE_3D = false;\n",
       "            &lt;/script&gt;\n",
       "\n",
       "        \n",
       "&lt;/head&gt;\n",
       "&lt;body&gt;\n",
       "    \n",
       "    \n",
       "            &lt;div class=&quot;folium-map&quot; id=&quot;map_b2a0e08618a8d8dea9a52ad4bae1dda0&quot; &gt;&lt;/div&gt;\n",
       "        \n",
       "&lt;/body&gt;\n",
       "&lt;script&gt;\n",
       "    \n",
       "    \n",
       "            var map_b2a0e08618a8d8dea9a52ad4bae1dda0 = L.map(\n",
       "                &quot;map_b2a0e08618a8d8dea9a52ad4bae1dda0&quot;,\n",
       "                {\n",
       "                    center: [0.0, 0.0],\n",
       "                    crs: L.CRS.EPSG3857,\n",
       "                    ...{\n",
       "  &quot;zoom&quot;: 1,\n",
       "  &quot;zoomControl&quot;: true,\n",
       "  &quot;preferCanvas&quot;: false,\n",
       "}\n",
       "\n",
       "                }\n",
       "            );\n",
       "\n",
       "            \n",
       "\n",
       "        \n",
       "    \n",
       "            var tile_layer_eb1129e23c0b2afd574274a48413f20f = L.tileLayer(\n",
       "                &quot;https://tile.openstreetmap.org/{z}/{x}/{y}.png&quot;,\n",
       "                {\n",
       "  &quot;minZoom&quot;: 0,\n",
       "  &quot;maxZoom&quot;: 19,\n",
       "  &quot;maxNativeZoom&quot;: 19,\n",
       "  &quot;noWrap&quot;: false,\n",
       "  &quot;attribution&quot;: &quot;\\u0026copy; \\u003ca href=\\&quot;https://www.openstreetmap.org/copyright\\&quot;\\u003eOpenStreetMap\\u003c/a\\u003e contributors&quot;,\n",
       "  &quot;subdomains&quot;: &quot;abc&quot;,\n",
       "  &quot;detectRetina&quot;: false,\n",
       "  &quot;tms&quot;: false,\n",
       "  &quot;opacity&quot;: 1,\n",
       "}\n",
       "\n",
       "            );\n",
       "        \n",
       "    \n",
       "            tile_layer_eb1129e23c0b2afd574274a48413f20f.addTo(map_b2a0e08618a8d8dea9a52ad4bae1dda0);\n",
       "        \n",
       "    \n",
       "            var marker_1b03bb12538cfc2ab70e83a2daeb18e7 = L.marker(\n",
       "                [47.71333333333333, -122.41933333333333],\n",
       "                {\n",
       "}\n",
       "            ).addTo(map_b2a0e08618a8d8dea9a52ad4bae1dda0);\n",
       "        \n",
       "    \n",
       "            var icon_48e1c37b4c35ba8b726251dd4841cdb1 = L.AwesomeMarkers.icon(\n",
       "                {\n",
       "  &quot;markerColor&quot;: &quot;red&quot;,\n",
       "  &quot;iconColor&quot;: &quot;white&quot;,\n",
       "  &quot;icon&quot;: &quot;info-sign&quot;,\n",
       "  &quot;prefix&quot;: &quot;glyphicon&quot;,\n",
       "  &quot;extraClasses&quot;: &quot;fa-rotate-0&quot;,\n",
       "}\n",
       "            );\n",
       "        \n",
       "    \n",
       "        var popup_96012fee47c3c1655fb366f7bdab6c99 = L.popup({\n",
       "  &quot;maxWidth&quot;: &quot;100%&quot;,\n",
       "});\n",
       "\n",
       "        \n",
       "            \n",
       "                var html_0bf6390be92e1e99321a75aae0d4d114 = $(`&lt;div id=&quot;html_0bf6390be92e1e99321a75aae0d4d114&quot; style=&quot;width: 100.0%; height: 100.0%;&quot;&gt;Cruise CTD, 2024-07-18 22:54:00+00:00&lt;/div&gt;`)[0];\n",
       "                popup_96012fee47c3c1655fb366f7bdab6c99.setContent(html_0bf6390be92e1e99321a75aae0d4d114);\n",
       "            \n",
       "        \n",
       "\n",
       "        marker_1b03bb12538cfc2ab70e83a2daeb18e7.bindPopup(popup_96012fee47c3c1655fb366f7bdab6c99)\n",
       "        ;\n",
       "\n",
       "        \n",
       "    \n",
       "    \n",
       "            marker_1b03bb12538cfc2ab70e83a2daeb18e7.bindTooltip(\n",
       "                `&lt;div&gt;\n",
       "                     Cruise CTD cast\n",
       "                 &lt;/div&gt;`,\n",
       "                {\n",
       "  &quot;sticky&quot;: true,\n",
       "}\n",
       "            );\n",
       "        \n",
       "    \n",
       "                marker_1b03bb12538cfc2ab70e83a2daeb18e7.setIcon(icon_48e1c37b4c35ba8b726251dd4841cdb1);\n",
       "            \n",
       "    \n",
       "            map_b2a0e08618a8d8dea9a52ad4bae1dda0.fitBounds(\n",
       "                [[47.71333333333333, -122.41933333333333], [47.71333333333333, -122.41933333333333]],\n",
       "                {}\n",
       "            );\n",
       "        \n",
       "&lt;/script&gt;\n",
       "&lt;/html&gt;\" style=\"position:absolute;width:100%;height:100%;left:0;top:0;border:none !important;\" allowfullscreen webkitallowfullscreen mozallowfullscreen></iframe></div></div>"
      ],
      "text/plain": [
       "<folium.folium.Map at 0x7a58f0f3d040>"
      ]
     },
     "execution_count": 20,
     "metadata": {},
     "output_type": "execute_result"
    }
   ],
   "source": [
    "castmap = folium.Map()\n",
    "\n",
    "folium.Marker(\n",
    "    location=[metadata['lat'], metadata['lon']],\n",
    "    icon=folium.Icon(color='red'),\n",
    "    tooltip=\"Cruise CTD cast\",\n",
    "    popup=f\"Cruise CTD, {metadata['time']}\"\n",
    ").add_to(castmap)\n",
    "\n",
    "# Set the map extent (bounds) to the extent of the sites\n",
    "castmap.fit_bounds(castmap.get_bounds())\n",
    "\n",
    "# Now generate and disply the interactive map\n",
    "castmap"
   ]
  },
  {
   "cell_type": "markdown",
   "metadata": {},
   "source": [
    "Because the map shows just one point, it's zoomed in very closely and the background shows just water. This is an interactive map, so zoom out a few times until you see the Seattle coastline."
   ]
  },
  {
   "cell_type": "markdown",
   "metadata": {},
   "source": [
    "## Read and map all casts\n",
    "\n",
    "Finally, let's create a map with **all** the casts. We'll extract information from the metadata as we did before, but this time we'll handle even more information in order to generate more extensive (and useful) tooltip and popup information.\n",
    "\n",
    "`get_header_element` is a helper function to extract specific metadata values. The next code block loops through all cast `.cnv` files in the data directory using the `pathlib.Path.glob` function, reads each cast, extracts the desired metadata, and compiles the `casts_metadata` list for use in the `folium` mapping code."
   ]
  },
  {
   "cell_type": "code",
   "execution_count": 21,
   "metadata": {},
   "outputs": [],
   "source": [
    "def get_header_element(element_name, metadata):\n",
    "    \"\"\"\n",
    "    Extract the value for the metadata element \"element_name\"\n",
    "    from the metadata \"header\" section\n",
    "    \"\"\"\n",
    "    metadata_header_aslist = metadata['header'].split('\\n')\n",
    "    for e in metadata_header_aslist:\n",
    "        if element_name in e:\n",
    "            element_value = e.split(\":\")[-1].strip()\n",
    "            return element_value"
   ]
  },
  {
   "cell_type": "code",
   "execution_count": 22,
   "metadata": {},
   "outputs": [],
   "source": [
    "casts_metadata = []\n",
    "for cnv_filepath in data_dir.glob(\"*.cnv\"):\n",
    "    # Read the cast and its metadata\n",
    "    cast = ctd.from_cnv(cnv_filepath)\n",
    "    metadata = cast._metadata\n",
    "    \n",
    "    # Let's add additional info to the metadata dictionary,\n",
    "    # by probing into the cast data and parsing the metadata \"header\" section\n",
    "    metadata['depth_max'] = cast.index.max()\n",
    "    for element_name in [\"Cruise ID\", \"Station\", \"Cast\"]:\n",
    "        metadata[element_name] = get_header_element(element_name, metadata)\n",
    "\n",
    "    # Append the metadata to the casts_metadata list\n",
    "    casts_metadata.append(metadata)"
   ]
  },
  {
   "cell_type": "code",
   "execution_count": 23,
   "metadata": {},
   "outputs": [
    {
     "data": {
      "text/html": [
       "<div style=\"width:100%;\"><div style=\"position:relative;width:100%;height:0;padding-bottom:60%;\"><span style=\"color:#565656\">Make this Notebook Trusted to load map: File -> Trust Notebook</span><iframe srcdoc=\"&lt;!DOCTYPE html&gt;\n",
       "&lt;html&gt;\n",
       "&lt;head&gt;\n",
       "    \n",
       "    &lt;meta http-equiv=&quot;content-type&quot; content=&quot;text/html; charset=UTF-8&quot; /&gt;\n",
       "    &lt;script src=&quot;https://cdn.jsdelivr.net/npm/leaflet@1.9.3/dist/leaflet.js&quot;&gt;&lt;/script&gt;\n",
       "    &lt;script src=&quot;https://code.jquery.com/jquery-3.7.1.min.js&quot;&gt;&lt;/script&gt;\n",
       "    &lt;script src=&quot;https://cdn.jsdelivr.net/npm/bootstrap@5.2.2/dist/js/bootstrap.bundle.min.js&quot;&gt;&lt;/script&gt;\n",
       "    &lt;script src=&quot;https://cdnjs.cloudflare.com/ajax/libs/Leaflet.awesome-markers/2.0.2/leaflet.awesome-markers.js&quot;&gt;&lt;/script&gt;\n",
       "    &lt;link rel=&quot;stylesheet&quot; href=&quot;https://cdn.jsdelivr.net/npm/leaflet@1.9.3/dist/leaflet.css&quot;/&gt;\n",
       "    &lt;link rel=&quot;stylesheet&quot; href=&quot;https://cdn.jsdelivr.net/npm/bootstrap@5.2.2/dist/css/bootstrap.min.css&quot;/&gt;\n",
       "    &lt;link rel=&quot;stylesheet&quot; href=&quot;https://netdna.bootstrapcdn.com/bootstrap/3.0.0/css/bootstrap-glyphicons.css&quot;/&gt;\n",
       "    &lt;link rel=&quot;stylesheet&quot; href=&quot;https://cdn.jsdelivr.net/npm/@fortawesome/fontawesome-free@6.2.0/css/all.min.css&quot;/&gt;\n",
       "    &lt;link rel=&quot;stylesheet&quot; href=&quot;https://cdnjs.cloudflare.com/ajax/libs/Leaflet.awesome-markers/2.0.2/leaflet.awesome-markers.css&quot;/&gt;\n",
       "    &lt;link rel=&quot;stylesheet&quot; href=&quot;https://cdn.jsdelivr.net/gh/python-visualization/folium/folium/templates/leaflet.awesome.rotate.min.css&quot;/&gt;\n",
       "    \n",
       "            &lt;meta name=&quot;viewport&quot; content=&quot;width=device-width,\n",
       "                initial-scale=1.0, maximum-scale=1.0, user-scalable=no&quot; /&gt;\n",
       "            &lt;style&gt;\n",
       "                #map_8b7de08f340430ccf63bdc544ab894dd {\n",
       "                    position: relative;\n",
       "                    width: 100.0%;\n",
       "                    height: 100.0%;\n",
       "                    left: 0.0%;\n",
       "                    top: 0.0%;\n",
       "                }\n",
       "                .leaflet-container { font-size: 1rem; }\n",
       "            &lt;/style&gt;\n",
       "\n",
       "            &lt;style&gt;html, body {\n",
       "                width: 100%;\n",
       "                height: 100%;\n",
       "                margin: 0;\n",
       "                padding: 0;\n",
       "            }\n",
       "            &lt;/style&gt;\n",
       "\n",
       "            &lt;style&gt;#map {\n",
       "                position:absolute;\n",
       "                top:0;\n",
       "                bottom:0;\n",
       "                right:0;\n",
       "                left:0;\n",
       "                }\n",
       "            &lt;/style&gt;\n",
       "\n",
       "            &lt;script&gt;\n",
       "                L_NO_TOUCH = false;\n",
       "                L_DISABLE_3D = false;\n",
       "            &lt;/script&gt;\n",
       "\n",
       "        \n",
       "&lt;/head&gt;\n",
       "&lt;body&gt;\n",
       "    \n",
       "    \n",
       "            &lt;div class=&quot;folium-map&quot; id=&quot;map_8b7de08f340430ccf63bdc544ab894dd&quot; &gt;&lt;/div&gt;\n",
       "        \n",
       "&lt;/body&gt;\n",
       "&lt;script&gt;\n",
       "    \n",
       "    \n",
       "            var map_8b7de08f340430ccf63bdc544ab894dd = L.map(\n",
       "                &quot;map_8b7de08f340430ccf63bdc544ab894dd&quot;,\n",
       "                {\n",
       "                    center: [0.0, 0.0],\n",
       "                    crs: L.CRS.EPSG3857,\n",
       "                    ...{\n",
       "  &quot;zoom&quot;: 1,\n",
       "  &quot;zoomControl&quot;: true,\n",
       "  &quot;preferCanvas&quot;: false,\n",
       "}\n",
       "\n",
       "                }\n",
       "            );\n",
       "\n",
       "            \n",
       "\n",
       "        \n",
       "    \n",
       "            var tile_layer_6419ab323668eff8575dcf0480918a3d = L.tileLayer(\n",
       "                &quot;https://server.arcgisonline.com/ArcGIS/rest/services/Ocean/World_Ocean_Base/MapServer/tile/{z}/{y}/{x}&quot;,\n",
       "                {\n",
       "  &quot;minZoom&quot;: 0,\n",
       "  &quot;maxZoom&quot;: 13,\n",
       "  &quot;maxNativeZoom&quot;: 13,\n",
       "  &quot;noWrap&quot;: false,\n",
       "  &quot;attribution&quot;: &quot;Tiles \\u0026copy; Esri \\u0026mdash; Sources: GEBCO, NOAA, CHS, OSU, UNH, CSUMB, National Geographic, DeLorme, NAVTEQ, and Esri&quot;,\n",
       "  &quot;subdomains&quot;: &quot;abc&quot;,\n",
       "  &quot;detectRetina&quot;: false,\n",
       "  &quot;tms&quot;: false,\n",
       "  &quot;opacity&quot;: 1,\n",
       "}\n",
       "\n",
       "            );\n",
       "        \n",
       "    \n",
       "            tile_layer_6419ab323668eff8575dcf0480918a3d.addTo(map_8b7de08f340430ccf63bdc544ab894dd);\n",
       "        \n",
       "    \n",
       "            var marker_46d1bb66ceba04e9af619c515a82f5d2 = L.marker(\n",
       "                [47.712833333333336, -122.42133333333334],\n",
       "                {\n",
       "}\n",
       "            ).addTo(map_8b7de08f340430ccf63bdc544ab894dd);\n",
       "        \n",
       "    \n",
       "            var icon_4f134a4e9a5e0c25a88a74c45a22fc10 = L.AwesomeMarkers.icon(\n",
       "                {\n",
       "  &quot;markerColor&quot;: &quot;red&quot;,\n",
       "  &quot;iconColor&quot;: &quot;white&quot;,\n",
       "  &quot;icon&quot;: &quot;info-sign&quot;,\n",
       "  &quot;prefix&quot;: &quot;glyphicon&quot;,\n",
       "  &quot;extraClasses&quot;: &quot;fa-rotate-0&quot;,\n",
       "}\n",
       "            );\n",
       "        \n",
       "    \n",
       "        var popup_18b4f490c0950358ed54c3c6254f1f3d = L.popup({\n",
       "  &quot;maxWidth&quot;: &quot;100%&quot;,\n",
       "});\n",
       "\n",
       "        \n",
       "            \n",
       "                var html_54c45bdb3937ae04c76da1d922340616 = $(`&lt;div id=&quot;html_54c45bdb3937ae04c76da1d922340616&quot; style=&quot;width: 100.0%; height: 100.0%;&quot;&gt;Cruise RC0121, Station p28,                 Cast 03, 2024-07-17 22:45,                 Maximum depth 186.5 m                 &lt;/div&gt;`)[0];\n",
       "                popup_18b4f490c0950358ed54c3c6254f1f3d.setContent(html_54c45bdb3937ae04c76da1d922340616);\n",
       "            \n",
       "        \n",
       "\n",
       "        marker_46d1bb66ceba04e9af619c515a82f5d2.bindPopup(popup_18b4f490c0950358ed54c3c6254f1f3d)\n",
       "        ;\n",
       "\n",
       "        \n",
       "    \n",
       "    \n",
       "            marker_46d1bb66ceba04e9af619c515a82f5d2.bindTooltip(\n",
       "                `&lt;div&gt;\n",
       "                     RC0121: p28-03\n",
       "                 &lt;/div&gt;`,\n",
       "                {\n",
       "  &quot;sticky&quot;: true,\n",
       "}\n",
       "            );\n",
       "        \n",
       "    \n",
       "                marker_46d1bb66ceba04e9af619c515a82f5d2.setIcon(icon_4f134a4e9a5e0c25a88a74c45a22fc10);\n",
       "            \n",
       "    \n",
       "            var marker_bc837d041396ef548ad38dd10808d1cd = L.marker(\n",
       "                [47.713166666666666, -122.4225],\n",
       "                {\n",
       "}\n",
       "            ).addTo(map_8b7de08f340430ccf63bdc544ab894dd);\n",
       "        \n",
       "    \n",
       "            var icon_26fcdc8513dd3be8e45252e7f2a8f324 = L.AwesomeMarkers.icon(\n",
       "                {\n",
       "  &quot;markerColor&quot;: &quot;red&quot;,\n",
       "  &quot;iconColor&quot;: &quot;white&quot;,\n",
       "  &quot;icon&quot;: &quot;info-sign&quot;,\n",
       "  &quot;prefix&quot;: &quot;glyphicon&quot;,\n",
       "  &quot;extraClasses&quot;: &quot;fa-rotate-0&quot;,\n",
       "}\n",
       "            );\n",
       "        \n",
       "    \n",
       "        var popup_4eae6bcf0e96299de547c1f4fa39fd1d = L.popup({\n",
       "  &quot;maxWidth&quot;: &quot;100%&quot;,\n",
       "});\n",
       "\n",
       "        \n",
       "            \n",
       "                var html_7d190964b297af66c1aaa0e1fa491844 = $(`&lt;div id=&quot;html_7d190964b297af66c1aaa0e1fa491844&quot; style=&quot;width: 100.0%; height: 100.0%;&quot;&gt;Cruise RC0122, Station nb,                 Cast 07, 2024-07-19 23:35,                 Maximum depth 186.0 m                 &lt;/div&gt;`)[0];\n",
       "                popup_4eae6bcf0e96299de547c1f4fa39fd1d.setContent(html_7d190964b297af66c1aaa0e1fa491844);\n",
       "            \n",
       "        \n",
       "\n",
       "        marker_bc837d041396ef548ad38dd10808d1cd.bindPopup(popup_4eae6bcf0e96299de547c1f4fa39fd1d)\n",
       "        ;\n",
       "\n",
       "        \n",
       "    \n",
       "    \n",
       "            marker_bc837d041396ef548ad38dd10808d1cd.bindTooltip(\n",
       "                `&lt;div&gt;\n",
       "                     RC0122: nb-07\n",
       "                 &lt;/div&gt;`,\n",
       "                {\n",
       "  &quot;sticky&quot;: true,\n",
       "}\n",
       "            );\n",
       "        \n",
       "    \n",
       "                marker_bc837d041396ef548ad38dd10808d1cd.setIcon(icon_26fcdc8513dd3be8e45252e7f2a8f324);\n",
       "            \n",
       "    \n",
       "            var marker_0c68f4e76d8f60472c83bab42d089faa = L.marker(\n",
       "                [47.72116666666667, -122.50183333333334],\n",
       "                {\n",
       "}\n",
       "            ).addTo(map_8b7de08f340430ccf63bdc544ab894dd);\n",
       "        \n",
       "    \n",
       "            var icon_72810ddc2c993611099826bdf52568e8 = L.AwesomeMarkers.icon(\n",
       "                {\n",
       "  &quot;markerColor&quot;: &quot;red&quot;,\n",
       "  &quot;iconColor&quot;: &quot;white&quot;,\n",
       "  &quot;icon&quot;: &quot;info-sign&quot;,\n",
       "  &quot;prefix&quot;: &quot;glyphicon&quot;,\n",
       "  &quot;extraClasses&quot;: &quot;fa-rotate-0&quot;,\n",
       "}\n",
       "            );\n",
       "        \n",
       "    \n",
       "        var popup_c66e9069de640a042cc91ba27cc61384 = L.popup({\n",
       "  &quot;maxWidth&quot;: &quot;100%&quot;,\n",
       "});\n",
       "\n",
       "        \n",
       "            \n",
       "                var html_40069f4922dd8998a7f0802063ce56cc = $(`&lt;div id=&quot;html_40069f4922dd8998a7f0802063ce56cc&quot; style=&quot;width: 100.0%; height: 100.0%;&quot;&gt;Cruise RC0122, Station p29,                 Cast 06, 2024-07-19 02:16,                 Maximum depth 108.1 m                 &lt;/div&gt;`)[0];\n",
       "                popup_c66e9069de640a042cc91ba27cc61384.setContent(html_40069f4922dd8998a7f0802063ce56cc);\n",
       "            \n",
       "        \n",
       "\n",
       "        marker_0c68f4e76d8f60472c83bab42d089faa.bindPopup(popup_c66e9069de640a042cc91ba27cc61384)\n",
       "        ;\n",
       "\n",
       "        \n",
       "    \n",
       "    \n",
       "            marker_0c68f4e76d8f60472c83bab42d089faa.bindTooltip(\n",
       "                `&lt;div&gt;\n",
       "                     RC0122: p29-06\n",
       "                 &lt;/div&gt;`,\n",
       "                {\n",
       "  &quot;sticky&quot;: true,\n",
       "}\n",
       "            );\n",
       "        \n",
       "    \n",
       "                marker_0c68f4e76d8f60472c83bab42d089faa.setIcon(icon_72810ddc2c993611099826bdf52568e8);\n",
       "            \n",
       "    \n",
       "            var marker_07b7ce4a7fd857e37bc2a6cc963a4349 = L.marker(\n",
       "                [47.71333333333333, -122.41933333333333],\n",
       "                {\n",
       "}\n",
       "            ).addTo(map_8b7de08f340430ccf63bdc544ab894dd);\n",
       "        \n",
       "    \n",
       "            var icon_cab53efeee220a6014cccdca3c430137 = L.AwesomeMarkers.icon(\n",
       "                {\n",
       "  &quot;markerColor&quot;: &quot;red&quot;,\n",
       "  &quot;iconColor&quot;: &quot;white&quot;,\n",
       "  &quot;icon&quot;: &quot;info-sign&quot;,\n",
       "  &quot;prefix&quot;: &quot;glyphicon&quot;,\n",
       "  &quot;extraClasses&quot;: &quot;fa-rotate-0&quot;,\n",
       "}\n",
       "            );\n",
       "        \n",
       "    \n",
       "        var popup_c93da71c0c0fe8ba4021d646d0ba38f1 = L.popup({\n",
       "  &quot;maxWidth&quot;: &quot;100%&quot;,\n",
       "});\n",
       "\n",
       "        \n",
       "            \n",
       "                var html_f26874c4b4878b4782430f5f545c0253 = $(`&lt;div id=&quot;html_f26874c4b4878b4782430f5f545c0253&quot; style=&quot;width: 100.0%; height: 100.0%;&quot;&gt;Cruise RC0121, Station p28,                 Cast 05, 2024-07-18 22:54,                 Maximum depth 180.4 m                 &lt;/div&gt;`)[0];\n",
       "                popup_c93da71c0c0fe8ba4021d646d0ba38f1.setContent(html_f26874c4b4878b4782430f5f545c0253);\n",
       "            \n",
       "        \n",
       "\n",
       "        marker_07b7ce4a7fd857e37bc2a6cc963a4349.bindPopup(popup_c93da71c0c0fe8ba4021d646d0ba38f1)\n",
       "        ;\n",
       "\n",
       "        \n",
       "    \n",
       "    \n",
       "            marker_07b7ce4a7fd857e37bc2a6cc963a4349.bindTooltip(\n",
       "                `&lt;div&gt;\n",
       "                     RC0121: p28-05\n",
       "                 &lt;/div&gt;`,\n",
       "                {\n",
       "  &quot;sticky&quot;: true,\n",
       "}\n",
       "            );\n",
       "        \n",
       "    \n",
       "                marker_07b7ce4a7fd857e37bc2a6cc963a4349.setIcon(icon_cab53efeee220a6014cccdca3c430137);\n",
       "            \n",
       "    \n",
       "            var marker_91447b63c2fca1e01d633092f62efe65 = L.marker(\n",
       "                [47.7015, -122.453],\n",
       "                {\n",
       "}\n",
       "            ).addTo(map_8b7de08f340430ccf63bdc544ab894dd);\n",
       "        \n",
       "    \n",
       "            var icon_b0622732eb233320f3f24f71ff92006b = L.AwesomeMarkers.icon(\n",
       "                {\n",
       "  &quot;markerColor&quot;: &quot;red&quot;,\n",
       "  &quot;iconColor&quot;: &quot;white&quot;,\n",
       "  &quot;icon&quot;: &quot;info-sign&quot;,\n",
       "  &quot;prefix&quot;: &quot;glyphicon&quot;,\n",
       "  &quot;extraClasses&quot;: &quot;fa-rotate-0&quot;,\n",
       "}\n",
       "            );\n",
       "        \n",
       "    \n",
       "        var popup_7ec0e09ae171d27f31d564be9fc7efe6 = L.popup({\n",
       "  &quot;maxWidth&quot;: &quot;100%&quot;,\n",
       "});\n",
       "\n",
       "        \n",
       "            \n",
       "                var html_429434267cf25bba1aa8ecf5c0cc3529 = $(`&lt;div id=&quot;html_429434267cf25bba1aa8ecf5c0cc3529&quot; style=&quot;width: 100.0%; height: 100.0%;&quot;&gt;Cruise RC0121, Station p28,                 Cast 01, 2024-07-16 23:05,                 Maximum depth 186.1 m                 &lt;/div&gt;`)[0];\n",
       "                popup_7ec0e09ae171d27f31d564be9fc7efe6.setContent(html_429434267cf25bba1aa8ecf5c0cc3529);\n",
       "            \n",
       "        \n",
       "\n",
       "        marker_91447b63c2fca1e01d633092f62efe65.bindPopup(popup_7ec0e09ae171d27f31d564be9fc7efe6)\n",
       "        ;\n",
       "\n",
       "        \n",
       "    \n",
       "    \n",
       "            marker_91447b63c2fca1e01d633092f62efe65.bindTooltip(\n",
       "                `&lt;div&gt;\n",
       "                     RC0121: p28-01\n",
       "                 &lt;/div&gt;`,\n",
       "                {\n",
       "  &quot;sticky&quot;: true,\n",
       "}\n",
       "            );\n",
       "        \n",
       "    \n",
       "                marker_91447b63c2fca1e01d633092f62efe65.setIcon(icon_b0622732eb233320f3f24f71ff92006b);\n",
       "            \n",
       "    \n",
       "            var marker_6c45d049546d2bef1637609e27dbe766 = L.marker(\n",
       "                [47.557, -122.47666666666667],\n",
       "                {\n",
       "}\n",
       "            ).addTo(map_8b7de08f340430ccf63bdc544ab894dd);\n",
       "        \n",
       "    \n",
       "            var icon_70537840c64038dd752a41d5be8716a3 = L.AwesomeMarkers.icon(\n",
       "                {\n",
       "  &quot;markerColor&quot;: &quot;red&quot;,\n",
       "  &quot;iconColor&quot;: &quot;white&quot;,\n",
       "  &quot;icon&quot;: &quot;info-sign&quot;,\n",
       "  &quot;prefix&quot;: &quot;glyphicon&quot;,\n",
       "  &quot;extraClasses&quot;: &quot;fa-rotate-0&quot;,\n",
       "}\n",
       "            );\n",
       "        \n",
       "    \n",
       "        var popup_ac8843ed4f12099e33e80be0deb2b70f = L.popup({\n",
       "  &quot;maxWidth&quot;: &quot;100%&quot;,\n",
       "});\n",
       "\n",
       "        \n",
       "            \n",
       "                var html_6bf826c85d3932381f77ca9b3e48c315 = $(`&lt;div id=&quot;html_6bf826c85d3932381f77ca9b3e48c315&quot; style=&quot;width: 100.0%; height: 100.0%;&quot;&gt;Cruise RC0121, Station p29,                 Cast 02, 2024-07-17 01:32,                 Maximum depth 116.0 m                 &lt;/div&gt;`)[0];\n",
       "                popup_ac8843ed4f12099e33e80be0deb2b70f.setContent(html_6bf826c85d3932381f77ca9b3e48c315);\n",
       "            \n",
       "        \n",
       "\n",
       "        marker_6c45d049546d2bef1637609e27dbe766.bindPopup(popup_ac8843ed4f12099e33e80be0deb2b70f)\n",
       "        ;\n",
       "\n",
       "        \n",
       "    \n",
       "    \n",
       "            marker_6c45d049546d2bef1637609e27dbe766.bindTooltip(\n",
       "                `&lt;div&gt;\n",
       "                     RC0121: p29-02\n",
       "                 &lt;/div&gt;`,\n",
       "                {\n",
       "  &quot;sticky&quot;: true,\n",
       "}\n",
       "            );\n",
       "        \n",
       "    \n",
       "                marker_6c45d049546d2bef1637609e27dbe766.setIcon(icon_70537840c64038dd752a41d5be8716a3);\n",
       "            \n",
       "    \n",
       "            var marker_f7813b36e0776beec0d12f71056e257e = L.marker(\n",
       "                [47.5605, -122.47633333333333],\n",
       "                {\n",
       "}\n",
       "            ).addTo(map_8b7de08f340430ccf63bdc544ab894dd);\n",
       "        \n",
       "    \n",
       "            var icon_9616d5aa0db91819ae5a3229490183d4 = L.AwesomeMarkers.icon(\n",
       "                {\n",
       "  &quot;markerColor&quot;: &quot;red&quot;,\n",
       "  &quot;iconColor&quot;: &quot;white&quot;,\n",
       "  &quot;icon&quot;: &quot;info-sign&quot;,\n",
       "  &quot;prefix&quot;: &quot;glyphicon&quot;,\n",
       "  &quot;extraClasses&quot;: &quot;fa-rotate-0&quot;,\n",
       "}\n",
       "            );\n",
       "        \n",
       "    \n",
       "        var popup_91c33c654545e454df159cbfeec0437c = L.popup({\n",
       "  &quot;maxWidth&quot;: &quot;100%&quot;,\n",
       "});\n",
       "\n",
       "        \n",
       "            \n",
       "                var html_4fa91a04e8c888e82f5fe4a59818cecf = $(`&lt;div id=&quot;html_4fa91a04e8c888e82f5fe4a59818cecf&quot; style=&quot;width: 100.0%; height: 100.0%;&quot;&gt;Cruise RC0121, Station p29,                 Cast 04, 2024-07-18 01:21,                 Maximum depth 182.0 m                 &lt;/div&gt;`)[0];\n",
       "                popup_91c33c654545e454df159cbfeec0437c.setContent(html_4fa91a04e8c888e82f5fe4a59818cecf);\n",
       "            \n",
       "        \n",
       "\n",
       "        marker_f7813b36e0776beec0d12f71056e257e.bindPopup(popup_91c33c654545e454df159cbfeec0437c)\n",
       "        ;\n",
       "\n",
       "        \n",
       "    \n",
       "    \n",
       "            marker_f7813b36e0776beec0d12f71056e257e.bindTooltip(\n",
       "                `&lt;div&gt;\n",
       "                     RC0121: p29-04\n",
       "                 &lt;/div&gt;`,\n",
       "                {\n",
       "  &quot;sticky&quot;: true,\n",
       "}\n",
       "            );\n",
       "        \n",
       "    \n",
       "                marker_f7813b36e0776beec0d12f71056e257e.setIcon(icon_9616d5aa0db91819ae5a3229490183d4);\n",
       "            \n",
       "    \n",
       "            map_8b7de08f340430ccf63bdc544ab894dd.fitBounds(\n",
       "                [[47.557, -122.50183333333334], [47.72116666666667, -122.41933333333333]],\n",
       "                {}\n",
       "            );\n",
       "        \n",
       "&lt;/script&gt;\n",
       "&lt;/html&gt;\" style=\"position:absolute;width:100%;height:100%;left:0;top:0;border:none !important;\" allowfullscreen webkitallowfullscreen mozallowfullscreen></iframe></div></div>"
      ],
      "text/plain": [
       "<folium.folium.Map at 0x7a58f0e068d0>"
      ]
     },
     "execution_count": 23,
     "metadata": {},
     "output_type": "execute_result"
    }
   ],
   "source": [
    "casts_map = folium.Map(tiles='ESRI.OceanBasemap')\n",
    "\n",
    "# This is just like the single-cast map, except we're now adding\n",
    "# multiple casts (markers) and populating them with much more information\n",
    "for castmd in casts_metadata:\n",
    "    folium.Marker(\n",
    "        location=[castmd['lat'], castmd['lon']],\n",
    "        icon=folium.Icon(color='red'),\n",
    "        tooltip=f\"{castmd['Cruise ID']}: {castmd['Station']}-{castmd['Cast']}\",\n",
    "        popup=f\"\"\"Cruise {castmd['Cruise ID']}, Station {castmd['Station']},\n",
    "                Cast {castmd['Cast']}, {castmd['time']:%Y-%m-%d %H:%M},\n",
    "                Maximum depth {castmd['depth_max']:0.1f} m\n",
    "                \"\"\",\n",
    "    ).add_to(casts_map)\n",
    "\n",
    "casts_map.fit_bounds(casts_map.get_bounds())\n",
    "\n",
    "casts_map"
   ]
  },
  {
   "cell_type": "code",
   "execution_count": null,
   "metadata": {},
   "outputs": [],
   "source": []
  }
 ],
 "metadata": {
  "kernelspec": {
   "display_name": "aplsurp-python-web",
   "language": "python",
   "name": "python3"
  },
  "language_info": {
   "codemirror_mode": {
    "name": "ipython",
    "version": 3
   },
   "file_extension": ".py",
   "mimetype": "text/x-python",
   "name": "python",
   "nbconvert_exporter": "python",
   "pygments_lexer": "ipython3",
   "version": "3.12.11"
  }
 },
 "nbformat": 4,
 "nbformat_minor": 4
}
